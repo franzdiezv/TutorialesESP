{
 "cells": [
  {
   "cell_type": "markdown",
   "id": "e445d128",
   "metadata": {},
   "source": [
    "<img src=https://i.imgur.com/DnzBnGl.png width=300>\n",
    "\n",
    "# Tutorial de Markdown\n",
    "Por: Franz Díez"
   ]
  },
  {
   "cell_type": "markdown",
   "id": "49c0f65d",
   "metadata": {},
   "source": [
    "# Título\n",
    "## Subtítulo\n",
    "### Subsubtítulo\n",
    "#### etc\n",
    "\n",
    "(Tiene que haber un espacio entre el \"#\" y el título).\n",
    "\n",
    "### Markdown\n",
    "\n",
    "<img src=https://i.imgur.com/lkiV6E9.png>"
   ]
  },
  {
   "cell_type": "markdown",
   "id": "55698697",
   "metadata": {},
   "source": [
    "## Listados\n",
    "\n",
    "Haz una lista de este modo:\n",
    " * Primer ítem \n",
    " * Segundo ítem \n",
    " * Tercer ítem \n",
    "    * Subítem 1\n",
    "    * Subítem 2\n",
    "        * Subsubítem 1\n",
    "              * Subsubsubítem 1    \n",
    "              \n",
    "### Markdown\n",
    "              \n",
    "<img src=https://i.imgur.com/Ja6fTk6.png>\n",
    "              \n",
    "(Solo necesitamos indentar para que el simbolo cambie, sin embargo, \n",
    "estos ya son predeterminados: círculo pequeño, cuadrado pequeño, \n",
    "círculo sin relleno, asterisco, etc. En el mismo orden)"
   ]
  },
  {
   "cell_type": "markdown",
   "id": "88ad59f4",
   "metadata": {},
   "source": [
    "Ahora, para listas ordenadas (1,2,3.../A,B,C...)\n",
    " 1. Primer ítem \n",
    " 2. Segundo ítem \n",
    " 3. Tercer ítem \n",
    "    1. Subítem 1\n",
    "    2. Subítem 2\n",
    "        1. Subsubítem 1\n",
    "              1. Subsubsubítem 1\n",
    "              2. Subsubsubítem 2\n",
    "\n",
    "### Markdown\n",
    "\n",
    "<img src=https://i.imgur.com/OCABz8J.png width=1000>\n",
    "\n",
    "Como vemos en este caso las enumeraciones tambien son predeterminadas: Números, letras mayúsculas, letras minúsculas, números romanos, etc.\n",
    "\n",
    "En el siguiente link hay una explicación de como cambiar estos símbolos por default: https://www.w3schools.com/cssref/pr_list-style-type.asp"
   ]
  },
  {
   "cell_type": "markdown",
   "id": "4c076a7d",
   "metadata": {},
   "source": [
    "Sin embargo, esto es más avanzado y, según nuestros fines, por lo general tomaremos el default"
   ]
  },
  {
   "cell_type": "markdown",
   "id": "787365e3",
   "metadata": {},
   "source": [
    "Nota: La enumeración en el punto anterior es una formalidad pues esto:\n",
    "\n",
    "<img src=https://i.imgur.com/9ZtbnXY.png width=1000>\n",
    "\n",
    "### Nos dará los mismos resultados:\n",
    "\n",
    " 1. Primer ítem \n",
    " 1. Segundo ítem \n",
    " 1. Tercer ítem \n",
    "    1. Subítem 1\n",
    "    1. Subítem 2\n",
    "        1. Subsubítem 1\n",
    "              1. Subsubsubítem 1\n",
    "              1. Subsubsubítem 2\n",
    "\n",
    "Así como el * (asterísco) en las listas desordenadas eran su forma de denotarlas el número seguido de un punto (Ejem: 1.) denota el listado ordenado.\n",
    "\n",
    "Ahora, el primer número en el ordenamiento es desde donde iniciará este:\n",
    "\n",
    "<img src=https://i.imgur.com/EWIG58W.png width=1000>\n",
    "\n",
    "### Por lo que lo anteriormente mostrado se mostrará como:\n",
    "\n",
    " 4. Primer ítem \n",
    " 400. Segundo ítem \n",
    "       4. Tercer ítem \n",
    "       12. Subítem 1\n",
    "       121. Subítem 2\n",
    "              4. Subsubítem 1\n",
    "                   3. Subsubsubítem 1\n",
    "                   6. Subsubsubítem 2\n",
    "                   \n",
    "Notese que el ordenamiento en letras del primer indentado comienza con \"D\" pues esta letra ocupa la cuarta posición, puedes probar distintas posibilidades para conocer mejor aun el comportamiento del listado."
   ]
  },
  {
   "cell_type": "markdown",
   "id": "979a6b4b",
   "metadata": {},
   "source": [
    "#### En resumen, en listas lo más importante es el indentado."
   ]
  },
  {
   "cell_type": "markdown",
   "id": "1b9aecc2",
   "metadata": {},
   "source": []
  },
  {
   "cell_type": "markdown",
   "id": "3beae6b3",
   "metadata": {},
   "source": []
  },
  {
   "cell_type": "markdown",
   "id": "969bf629",
   "metadata": {},
   "source": []
  },
  {
   "cell_type": "markdown",
   "id": "f5e7268a",
   "metadata": {},
   "source": []
  },
  {
   "cell_type": "markdown",
   "id": "841d2159",
   "metadata": {},
   "source": []
  },
  {
   "cell_type": "markdown",
   "id": "88e85d67",
   "metadata": {},
   "source": []
  },
  {
   "cell_type": "markdown",
   "id": "4a3ca2df",
   "metadata": {},
   "source": []
  },
  {
   "cell_type": "markdown",
   "id": "663bcca3",
   "metadata": {},
   "source": []
  },
  {
   "cell_type": "markdown",
   "id": "5b4595ee",
   "metadata": {},
   "source": []
  }
 ],
 "metadata": {
  "kernelspec": {
   "display_name": "Python 3",
   "language": "python",
   "name": "python3"
  },
  "language_info": {
   "codemirror_mode": {
    "name": "ipython",
    "version": 3
   },
   "file_extension": ".py",
   "mimetype": "text/x-python",
   "name": "python",
   "nbconvert_exporter": "python",
   "pygments_lexer": "ipython3",
   "version": "3.8.8"
  }
 },
 "nbformat": 4,
 "nbformat_minor": 5
}
