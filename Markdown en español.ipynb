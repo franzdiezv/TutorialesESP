{
 "cells": [
  {
   "cell_type": "markdown",
   "id": "a8dda8bd",
   "metadata": {},
   "source": [
    "<img src=https://i.imgur.com/DnzBnGl.png width=300>\n",
    "\n",
    "# Tutorial de Markdown\n",
    "Por: Franz Díez\n",
    "<img src=https://i.imgur.com/lCqEfAZ.png width=1000>\n",
    "\n",
    "# Índice\n",
    "\n",
    "\n",
    "# [1. Encabezados](#encabezados)\n",
    "\n",
    "# [2. Listados](#listados) \n",
    "\n",
    "# [3. Links](#links) \n",
    "\n",
    "# [4. Formatos](#formatos)  \n",
    "\n",
    "## [    4.1. Dar formatos de texto](#dar_formatos_de_texto)  \n",
    "\n",
    "## [    4.2. Dar formato de código](#dar_formato_de_codigo)  \n",
    "\n",
    "## [    4.3. Dar formato de cita](#dar_formato_de_cita) \n",
    "\n",
    "# [5. Tablas](#tablas)\n",
    "\n",
    "# [6. Insertar Imágenes](#insertar_imagenes) \n",
    "\n",
    "# [7. IFrames](#iframes) "
   ]
  },
  {
   "cell_type": "markdown",
   "id": "92600b60",
   "metadata": {},
   "source": [
    "<img src=https://i.imgur.com/lCqEfAZ.png width=1000>\n",
    "\n",
    "# 1. Encabezados <a id='encabezados'></a>\n",
    "\n",
    "<img src=https://i.imgur.com/lkiV6E9.png width=1000>\n",
    "\n",
    "# Título \n",
    "## Subtítulo\n",
    "### Subsubtítulo\n",
    "#### etc\n",
    "\n",
    "Nota: Tiene que haber un espacio entre el \"#\" y el título.\n"
   ]
  },
  {
   "cell_type": "markdown",
   "id": "f72a5837",
   "metadata": {},
   "source": [
    "# 2. Listados <a id='listados'></a>\n",
    "\n",
    "Haz una lista de este modo:\n",
    " * Primer ítem \n",
    " * Segundo ítem \n",
    " * Tercer ítem \n",
    "    * Subítem 1\n",
    "    * Subítem 2\n",
    "        * Subsubítem 1\n",
    "              * Subsubsubítem 1  \n",
    "              \n",
    "#### Markdown\n",
    "              \n",
    "<img src=https://i.imgur.com/Ja6fTk6.png width=1000>\n",
    "              \n",
    "(Solo necesitamos indentar para que el simbolo cambie, sin embargo, \n",
    "estos ya son predeterminados: círculo pequeño, cuadrado pequeño, \n",
    "círculo sin relleno, asterisco, etc. En el mismo orden)"
   ]
  },
  {
   "cell_type": "markdown",
   "id": "43cab116",
   "metadata": {},
   "source": [
    "Ahora, para listas ordenadas (1,2,3.../A,B,C...)\n",
    " 1. Primer ítem \n",
    " 2. Segundo ítem \n",
    " 3. Tercer ítem \n",
    "    1. Subítem 1\n",
    "    2. Subítem 2\n",
    "        1. Subsubítem 1\n",
    "              1. Subsubsubítem 1\n",
    "              2. Subsubsubítem 2\n",
    "\n",
    "#### Markdown\n",
    "\n",
    "<img src=https://i.imgur.com/OCABz8J.png width=1000>\n",
    "\n",
    "Como vemos en este caso las enumeraciones tambien son predeterminadas: Números, letras mayúsculas, letras minúsculas, números romanos, etc.\n",
    "\n",
    "En el siguiente link hay una explicación de como cambiar estos símbolos por default: https://www.w3schools.com/cssref/pr_list-style-type.asp"
   ]
  },
  {
   "cell_type": "markdown",
   "id": "e41091e8",
   "metadata": {},
   "source": [
    "Sin embargo, esto es más avanzado y, según nuestros fines, por lo general tomaremos el default"
   ]
  },
  {
   "cell_type": "markdown",
   "id": "51212975",
   "metadata": {},
   "source": [
    "Nota: La enumeración en el punto anterior es una formalidad pues esto:\n",
    "\n",
    "<img src=https://i.imgur.com/9ZtbnXY.png width=1000>\n",
    "\n",
    "#### Nos dará los mismos resultados:\n",
    "\n",
    " 1. Primer ítem \n",
    " 1. Segundo ítem \n",
    " 1. Tercer ítem \n",
    "    1. Subítem 1\n",
    "    1. Subítem 2\n",
    "        1. Subsubítem 1\n",
    "              1. Subsubsubítem 1\n",
    "              1. Subsubsubítem 2\n",
    "\n",
    "Así como el * (asterísco) en las listas desordenadas eran su forma de denotarlas el número seguido de un punto (Ejem: 1.) denota el listado ordenado.\n",
    "\n",
    "Ahora, el primer número en el ordenamiento es desde donde iniciará este:\n",
    "\n",
    "<img src=https://i.imgur.com/EWIG58W.png width=1000>\n",
    "\n",
    "#### Por lo que lo anteriormente mostrado se mostrará como:\n",
    "\n",
    " 4. Primer ítem \n",
    " 400. Segundo ítem \n",
    "       4. Tercer ítem \n",
    "       12. Subítem 1\n",
    "       121. Subítem 2\n",
    "              4. Subsubítem 1\n",
    "                   3. Subsubsubítem 1\n",
    "                   6. Subsubsubítem 2\n",
    "                   \n",
    "Notese que el ordenamiento en letras del primer indentado comienza con \"D\" pues esta letra ocupa la cuarta posición, puedes probar distintas posibilidades para conocer mejor aun el comportamiento del listado."
   ]
  },
  {
   "cell_type": "markdown",
   "id": "38fd328a",
   "metadata": {},
   "source": [
    "#### En resumen, en listas lo más importante es el indentado."
   ]
  },
  {
   "cell_type": "markdown",
   "id": "403d7aa3",
   "metadata": {},
   "source": [
    "# 3. Links <a id='links'></a>"
   ]
  },
  {
   "cell_type": "markdown",
   "id": "0198ed7d",
   "metadata": {},
   "source": [
    "Puedes adjuntar hipervínculos de este modo:"
   ]
  },
  {
   "cell_type": "markdown",
   "id": "56fa2e78",
   "metadata": {},
   "source": [
    "<img src=https://i.imgur.com/7shG72Y.png width=1000>\n",
    "\n",
    "Y da como resultado simplemente lo que coloquemos entre los corchetes\n",
    "\n",
    "[Nombre del link](https://static.zerochan.net/Patrasche.%28Re%3AZero%29.full.3003093.png)"
   ]
  },
  {
   "cell_type": "markdown",
   "id": "4afd2b40",
   "metadata": {},
   "source": [
    "También se pueden crear vínculos que te lleven a alguna parte del documento, por ejemplo, al tema \"Listados\" de esta manera:"
   ]
  },
  {
   "cell_type": "markdown",
   "id": "358afe0c",
   "metadata": {},
   "source": [
    "![](chrome_I6lpRTCljN.png)\n",
    "\n",
    "Es a propósito que se muestren las herramientas del notebook, pues es para mostrar a dónde te llevará directamente el hipervínculo.\n",
    "\n",
    "### [Ir a listados](#listados) \n",
    "Te llevará a:\n",
    "\n",
    "<img src=https://i.imgur.com/ER8pRQI.png width=1000>"
   ]
  },
  {
   "cell_type": "markdown",
   "id": "9303ef68",
   "metadata": {},
   "source": [
    "Como una nota adicional, notarán que se pueden convertir los hipervínculos en títulos agregando la cantidad de númerales (#) necesarios para el tamaño del título: \n",
    "\n",
    "```markdown \n",
    "### [Ir a listados](#listados)\n",
    "```"
   ]
  },
  {
   "cell_type": "markdown",
   "id": "60ef329f",
   "metadata": {},
   "source": [
    "# 4. Formatos <a id='formatos'></a>"
   ]
  },
  {
   "cell_type": "markdown",
   "id": "89dab58c",
   "metadata": {},
   "source": [
    "## 4.1 Dar formatos de texto <a id='dar_formatos_de_texto'></a>"
   ]
  },
  {
   "cell_type": "markdown",
   "id": "159d5a6e",
   "metadata": {},
   "source": [
    "Algunos formatos básicos de texto a usar son convertir texto a *cursiva*, **negrita**, <font color='red'>cambiar el color del texto</font> o <u>subrayar</u>"
   ]
  },
  {
   "cell_type": "markdown",
   "id": "4023f312",
   "metadata": {},
   "source": [
    "Para conseguir los resultados de la linea anterior usamos este código:"
   ]
  },
  {
   "cell_type": "markdown",
   "id": "4a280393",
   "metadata": {},
   "source": [
    "<img src=https://i.imgur.com/S9lHt5M.png width=1000>\n"
   ]
  },
  {
   "cell_type": "markdown",
   "id": "73b44666",
   "metadata": {},
   "source": [
    "Inclusive podemos combinar fuentes como ***negrita cursiva*** o <u><font color='red'>*cursiva subrayada roja*</font></u>"
   ]
  },
  {
   "cell_type": "markdown",
   "id": "97759a3a",
   "metadata": {},
   "source": [
    "<img src=https://i.imgur.com/O893NFo.png width=1000>"
   ]
  },
  {
   "cell_type": "markdown",
   "id": "2828d9fc",
   "metadata": {},
   "source": [
    "Como podemos ver simplemente estamos agregando una fuente tras otra al texto objetivo. "
   ]
  },
  {
   "cell_type": "markdown",
   "id": "5fb6617e",
   "metadata": {},
   "source": [
    "Nota: Para mayor personalización del texto tendríamos que utilizar html tags como en el caso del subrayado."
   ]
  },
  {
   "cell_type": "markdown",
   "id": "23ca53f5",
   "metadata": {},
   "source": [
    "#### Ejemplo:\n",
    "\n",
    "```<font size=\"100\"> Tamaño de letra </font>```\n",
    "\n",
    "<font size=\"100\"> Tamaño de letra </font>"
   ]
  },
  {
   "cell_type": "markdown",
   "id": "3d5f3c99",
   "metadata": {},
   "source": [
    "## 4.2 Dar formato de código <a id='dar_formato_de_codigo'></a>"
   ]
  },
  {
   "cell_type": "markdown",
   "id": "ea893c3d",
   "metadata": {},
   "source": [
    "Para dar formato de código genérico se utilizan los backticks (```)"
   ]
  },
  {
   "cell_type": "markdown",
   "id": "707a55a4",
   "metadata": {},
   "source": [
    "```Estas vendrían a ser las tildes del idioma castellano pero invertidas```"
   ]
  },
  {
   "cell_type": "markdown",
   "id": "ea5e7022",
   "metadata": {},
   "source": [
    "#### Markdown\n",
    "<img src=https://i.imgur.com/1ecNo4p.png width=1000>"
   ]
  },
  {
   "cell_type": "markdown",
   "id": "adb090f8",
   "metadata": {},
   "source": [
    "Ahora, si quisieramos que el formato sea con otro lenguaje de programación lo debemos especificar luego de las tres primeras backticks e indentar:"
   ]
  },
  {
   "cell_type": "markdown",
   "id": "096c3f8d",
   "metadata": {},
   "source": [
    "#### Python\n",
    "\n",
    "<img src=https://i.imgur.com/UmE2DDE.png width=1000>\n",
    "\n",
    "```python\n",
    "if DIO==\"Jotaro\":\n",
    "    print(\"DIO!\")\n",
    "```"
   ]
  },
  {
   "cell_type": "markdown",
   "id": "04874486",
   "metadata": {},
   "source": [
    "Como vemos dentro de los backticks debemos escribir del mismo modo en el que escribiriamos en el lenguaje."
   ]
  },
  {
   "cell_type": "markdown",
   "id": "836a8b9b",
   "metadata": {},
   "source": [
    "## 4.3 Dar formato de cita <a id='dar_formato_de_cita'></a>"
   ]
  },
  {
   "cell_type": "markdown",
   "id": "dd618b60",
   "metadata": {},
   "source": [
    "```markdown\n",
    "> Para dar formado de cita se utiliza el simbolo \"mayor que\" (>).\n",
    "> Puedes utilizar mas de uno de estos para agregar texto a la cita.\n",
    "\n",
    "> Pero, para hacer un salto de un parrafo a otro, tendrás que usar una    línea en blanco.\n",
    "```"
   ]
  },
  {
   "cell_type": "markdown",
   "id": "35b621aa",
   "metadata": {},
   "source": [
    "> Para dar formado de cita se utiliza el simbolo \"mayor que\" (>).\n",
    "> Puedes utilizar mas de uno de estos para agregar texto a la cita.\n",
    "\n",
    "> Pero, para hacer un salto de un parrafo a otro, tendrás que usar una línea en blanco."
   ]
  },
  {
   "cell_type": "markdown",
   "id": "2537293d",
   "metadata": {},
   "source": [
    "# 5. Tablas <a id='tablas'></a>"
   ]
  },
  {
   "cell_type": "markdown",
   "id": "41a5acdd",
   "metadata": {},
   "source": [
    "Para preparar una tabla usaremos el simbolo : \"|\". De la siguiente manera:"
   ]
  },
  {
   "cell_type": "markdown",
   "id": "daccbc94",
   "metadata": {},
   "source": [
    "<img src=https://i.imgur.com/R8lRG5p.png width=1000>\n",
    "\n",
    "#### Resultado\n",
    "|Código|   Nombre   |Capítulos|\n",
    "|:----:|:-----------|--------:|\n",
    "|01    |Re:Zero     |  50     |\n",
    "|02    |Steins;Gate |  25     |\n",
    "|03    |Code Geass  |  52     |"
   ]
  },
  {
   "cell_type": "markdown",
   "id": "6b740147",
   "metadata": {},
   "source": [
    ">Como vemos los códigos estan alineados al centro y esto se debe a que en la cabecera tiene dobles dos puntos (:-----:), los nombres estan a la izquierda por que los dos puntos están solo a la izquierda (:------) y los capitulos estan a la derecha porque los puntos están solo de ese lado (------:)."
   ]
  },
  {
   "cell_type": "markdown",
   "id": "ab108713",
   "metadata": {},
   "source": [
    "Por fines de buenas prácticas se trata de mantener los mismos anchos en las tablas, pero como veremos a continuación, realmente no influye en nada esto."
   ]
  },
  {
   "cell_type": "markdown",
   "id": "932714a1",
   "metadata": {},
   "source": [
    "<img src=https://i.imgur.com/9valK2S.png width=1000>"
   ]
  },
  {
   "cell_type": "markdown",
   "id": "b1519048",
   "metadata": {},
   "source": [
    "#### Resultado:"
   ]
  },
  {
   "cell_type": "markdown",
   "id": "3ff64395",
   "metadata": {},
   "source": [
    "|*Código*|Nombre|<u>Capítulos</u>|\n",
    "|:-----:|--------------------:|----:|\n",
    "|01|Re:Zero|50|\n",
    "|02      |<font color='red'>Steins;Gate</font>|       25|\n",
    "|   03|Code Geass| 52                   |"
   ]
  },
  {
   "cell_type": "markdown",
   "id": "b5732b6b",
   "metadata": {},
   "source": [
    "Como vemos inclusive podemos aplicarle fuentes"
   ]
  },
  {
   "cell_type": "markdown",
   "id": "0bbc70ad",
   "metadata": {},
   "source": [
    "# 6. Insertar imagenes <a id='insertar_imagenes'></a>"
   ]
  },
  {
   "cell_type": "markdown",
   "id": "60b9537c",
   "metadata": {},
   "source": [
    "Las imagenes se insertan del siguiente modo:"
   ]
  },
  {
   "cell_type": "markdown",
   "id": "26678454",
   "metadata": {},
   "source": [
    "<img src=https://i.imgur.com/qGdKA7o.png width=1000>"
   ]
  },
  {
   "cell_type": "markdown",
   "id": "bbc551b5",
   "metadata": {},
   "source": [
    "Sin embargo, si el archivo no esta dentro de la misma carpeta donde se encuentra el archivo .ipynb tendremos este resultado:"
   ]
  },
  {
   "cell_type": "markdown",
   "id": "4ef7d10c",
   "metadata": {},
   "source": [
    "![Nuevo nombre](1200px-Markdown-mark.png)"
   ]
  },
  {
   "cell_type": "markdown",
   "id": "b4dd1e28",
   "metadata": {},
   "source": [
    "Por esta razón trabajar con html es más práctico, de la siguiente manera:"
   ]
  },
  {
   "cell_type": "markdown",
   "id": "8bfcee33",
   "metadata": {},
   "source": [
    "<img src=https://i.imgur.com/F69YQA4.png width=1000>"
   ]
  },
  {
   "cell_type": "markdown",
   "id": "f4f4e7b9",
   "metadata": {},
   "source": [
    "<img src=https://i.imgur.com/qGdKA7o.png width=1000>\n",
    "\n",
    "Si se desea trabajar con capturas, personalmente utilizo ShareX pues este directamente sube las capturas."
   ]
  },
  {
   "cell_type": "markdown",
   "id": "f293459c",
   "metadata": {},
   "source": [
    "El primer argumento es el tipo de archivo, el segundo el link y el tercero es el ancho, con html se le puede realizar mayor edición."
   ]
  },
  {
   "cell_type": "markdown",
   "id": "5175d2ed",
   "metadata": {},
   "source": [
    "# 7. IFrames <a id='iframes'></a>"
   ]
  },
  {
   "cell_type": "markdown",
   "id": "18bc7fa5",
   "metadata": {},
   "source": [
    "Para trabajar con IFrames tendremos que utilizar ahora una ventana de código"
   ]
  },
  {
   "cell_type": "code",
   "execution_count": 19,
   "id": "72526401",
   "metadata": {
    "scrolled": true
   },
   "outputs": [
    {
     "data": {
      "text/html": [
       "\n",
       "        <iframe\n",
       "            width=\"600\"\n",
       "            height=\"600\"\n",
       "            src=\"http://www1.herrera.unt.edu.ar/biblcet/wp-content/uploads/2014/12/ippython.pdf\"\n",
       "            frameborder=\"0\"\n",
       "            allowfullscreen\n",
       "        ></iframe>\n",
       "        "
      ],
      "text/plain": [
       "<IPython.lib.display.IFrame at 0x195283cc2e0>"
      ]
     },
     "execution_count": 19,
     "metadata": {},
     "output_type": "execute_result"
    }
   ],
   "source": [
    "from IPython.display import IFrame\n",
    "IFrame(\"http://www1.herrera.unt.edu.ar/biblcet/wp-content/uploads/2014/12/ippython.pdf\", width=600, height=600)"
   ]
  },
  {
   "cell_type": "markdown",
   "id": "e4ab7e38",
   "metadata": {},
   "source": [
    "Siendo el código utilizado:\n",
    ">from IPython.display import IFrame\n",
    ">IFrame(\"http://www1.herrera.unt.edu.ar/biblcet/wp-content/uploads/2014/12/ippython.pdf\", width=600, height=600)\n",
    "\n",
    "Hay que tener en cuenta que si la página donde se aloja el documento no permite conexión no obtendremos resultados."
   ]
  },
  {
   "cell_type": "markdown",
   "id": "841d1adf",
   "metadata": {},
   "source": [
    "Con esto último ya nos estamos saliendo del tema de markdown por lo que culmina con esto el tutorial. "
   ]
  },
  {
   "cell_type": "markdown",
   "id": "4c243922",
   "metadata": {},
   "source": [
    "# Gracias"
   ]
  }
 ],
 "metadata": {
  "kernelspec": {
   "display_name": "Python 3",
   "language": "python",
   "name": "python3"
  },
  "language_info": {
   "codemirror_mode": {
    "name": "ipython",
    "version": 3
   },
   "file_extension": ".py",
   "mimetype": "text/x-python",
   "name": "python",
   "nbconvert_exporter": "python",
   "pygments_lexer": "ipython3",
   "version": "3.8.8"
  }
 },
 "nbformat": 4,
 "nbformat_minor": 5
}
