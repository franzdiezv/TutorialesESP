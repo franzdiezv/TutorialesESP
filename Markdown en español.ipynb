{
 "cells": [
  {
   "cell_type": "markdown",
   "id": "d33283e3",
   "metadata": {},
   "source": [
    "<img src=https://i.imgur.com/DnzBnGl.png width=300>\n",
    "\n",
    "# Tutorial de Markdown\n",
    "#### Por: Franz Díez\n",
    "<img src=https://i.imgur.com/lCqEfAZ.png width=1000>\n",
    "\n",
    "# Índice\n",
    "\n",
    "\n",
    "# [1. Encabezados](#encabezados)\n",
    "\n",
    "# [2. Listados](#listados) \n",
    "\n",
    "# [3. Links](#links) \n",
    "\n",
    "# [4. Formatos](#formatos)  \n",
    "\n",
    "## [    4.1. Dar formatos de texto](#dar_formatos_de_texto)  \n",
    "\n",
    "## [    4.2. Dar formato de código](#dar_formato_de_codigo)  \n",
    "\n",
    "## [    4.3. Dar formato de cita](#dar_formato_de_cita) \n",
    "\n",
    "# [5. Tablas](#tablas)\n",
    "\n",
    "# [6. Insertar Imágenes](#insertar_imagenes) \n",
    "\n",
    "# [7. IFrames](#iframes) "
   ]
  },
  {
   "cell_type": "markdown",
   "id": "b24ef6af",
   "metadata": {},
   "source": [
    "<img src=https://i.imgur.com/lCqEfAZ.png width=1000>\n",
    "\n",
    "# 1. Encabezados <a id='encabezados'></a>\n",
    "\n",
    "<img src=https://i.imgur.com/lkiV6E9.png width=1000>\n",
    "\n",
    "# Título \n",
    "## Subtítulo\n",
    "### Subsubtítulo\n",
    "#### etc\n",
    "\n",
    "Nota: Tiene que haber un espacio entre el \"#\" y el título.\n"
   ]
  },
  {
   "cell_type": "markdown",
   "id": "e9f5e46d",
   "metadata": {},
   "source": [
    "# 2. Listados <a id='listados'></a>\n",
    "\n",
    "Haz una lista de este modo:\n",
    " * Primer ítem \n",
    " * Segundo ítem \n",
    " * Tercer ítem \n",
    "    * Subítem 1\n",
    "    * Subítem 2\n",
    "        * Subsubítem 1\n",
    "              * Subsubsubítem 1  \n",
    "              \n",
    "#### Markdown\n",
    "              \n",
    "<img src=https://i.imgur.com/Ja6fTk6.png width=1000>\n",
    "              \n",
    "(Solo necesitamos indentar para que el simbolo cambie, sin embargo, \n",
    "estos ya son predeterminados: círculo pequeño, cuadrado pequeño, \n",
    "círculo sin relleno, asterisco, etc. En el mismo orden)"
   ]
  },
  {
   "cell_type": "markdown",
   "id": "f44c658a",
   "metadata": {},
   "source": [
    "Ahora, para listas ordenadas (1,2,3.../A,B,C...)\n",
    " 1. Primer ítem \n",
    " 2. Segundo ítem \n",
    " 3. Tercer ítem \n",
    "    1. Subítem 1\n",
    "    2. Subítem 2\n",
    "        1. Subsubítem 1\n",
    "              1. Subsubsubítem 1\n",
    "              2. Subsubsubítem 2\n",
    "\n",
    "#### Markdown\n",
    "\n",
    "<img src=https://i.imgur.com/OCABz8J.png width=1000>\n",
    "\n",
    "Como vemos en este caso las enumeraciones tambien son predeterminadas: Números, letras mayúsculas, letras minúsculas, números romanos, etc.\n",
    "\n",
    "En el siguiente link hay una explicación de como cambiar estos símbolos por default: https://www.w3schools.com/cssref/pr_list-style-type.asp"
   ]
  },
  {
   "cell_type": "markdown",
   "id": "7ab94ed9",
   "metadata": {},
   "source": [
    "Sin embargo, esto es más avanzado y, según nuestros fines, por lo general tomaremos el default"
   ]
  },
  {
   "cell_type": "markdown",
   "id": "eddad602",
   "metadata": {},
   "source": [
    "Nota: La enumeración en el punto anterior es una formalidad pues esto:\n",
    "\n",
    "<img src=https://i.imgur.com/9ZtbnXY.png width=1000>\n",
    "\n",
    "#### Nos dará los mismos resultados:\n",
    "\n",
    " 1. Primer ítem \n",
    " 1. Segundo ítem \n",
    " 1. Tercer ítem \n",
    "    1. Subítem 1\n",
    "    1. Subítem 2\n",
    "        1. Subsubítem 1\n",
    "              1. Subsubsubítem 1\n",
    "              1. Subsubsubítem 2\n",
    "\n",
    "Así como el * (asterísco) en las listas desordenadas eran su forma de denotarlas el número seguido de un punto (Ejem: 1.) denota el listado ordenado.\n",
    "\n",
    "Ahora, el primer número en el ordenamiento es desde donde iniciará este:\n",
    "\n",
    "<img src=https://i.imgur.com/EWIG58W.png width=1000>\n",
    "\n",
    "#### Por lo que lo anteriormente mostrado se mostrará como:\n",
    "\n",
    " 4. Primer ítem \n",
    " 400. Segundo ítem \n",
    "       4. Tercer ítem \n",
    "       12. Subítem 1\n",
    "       121. Subítem 2\n",
    "              4. Subsubítem 1\n",
    "                   3. Subsubsubítem 1\n",
    "                   6. Subsubsubítem 2\n",
    "                   \n",
    "Notese que el ordenamiento en letras del primer indentado comienza con \"D\" pues esta letra ocupa la cuarta posición, puedes probar distintas posibilidades para conocer mejor aun el comportamiento del listado."
   ]
  },
  {
   "cell_type": "markdown",
   "id": "537f28bd",
   "metadata": {},
   "source": [
    "#### En resumen, en listas lo más importante es el indentado."
   ]
  },
  {
   "cell_type": "markdown",
   "id": "7800d253",
   "metadata": {},
   "source": [
    "# 3. Links <a id='links'></a>"
   ]
  },
  {
   "cell_type": "markdown",
   "id": "d544cf5c",
   "metadata": {},
   "source": [
    "Puedes adjuntar hipervínculos de este modo:"
   ]
  },
  {
   "cell_type": "markdown",
   "id": "40201d71",
   "metadata": {},
   "source": [
    "<img src=https://i.imgur.com/7shG72Y.png width=1000>\n",
    "\n",
    "Y da como resultado simplemente lo que coloquemos entre los corchetes\n",
    "\n",
    "[Nombre del link](https://static.zerochan.net/Patrasche.%28Re%3AZero%29.full.3003093.png)"
   ]
  },
  {
   "cell_type": "markdown",
   "id": "efb4f59b",
   "metadata": {},
   "source": [
    "También se pueden crear vínculos que te lleven a alguna parte del documento, por ejemplo, al tema \"Listados\" de esta manera:"
   ]
  },
  {
   "cell_type": "markdown",
   "id": "2f8c9425",
   "metadata": {},
   "source": [
    "<img src=https://i.imgur.com/Mbotfcv.png width=1000>\n",
    "\n",
    "Es a propósito que se muestren las herramientas del notebook, pues es para mostrar a dónde te llevará directamente el hipervínculo.\n",
    "\n",
    "### [Ir a listados](#listados) \n",
    "Te llevará a:\n",
    "\n",
    "<img src=https://i.imgur.com/ER8pRQI.png width=1000>"
   ]
  },
  {
   "cell_type": "markdown",
   "id": "a7d20d3e",
   "metadata": {},
   "source": [
    "Como una nota adicional, notarán que se pueden convertir los hipervínculos en títulos agregando la cantidad de númerales (#) necesarios para el tamaño del título: \n",
    "\n",
    "```markdown \n",
    "### [Ir a listados](#listados)\n",
    "```"
   ]
  },
  {
   "cell_type": "markdown",
   "id": "712e19a9",
   "metadata": {},
   "source": [
    "# 4. Formatos <a id='formatos'></a>"
   ]
  },
  {
   "cell_type": "markdown",
   "id": "e946c6db",
   "metadata": {},
   "source": [
    "## 4.1 Dar formatos de texto <a id='dar_formatos_de_texto'></a>"
   ]
  },
  {
   "cell_type": "markdown",
   "id": "432c27ec",
   "metadata": {},
   "source": [
    "Algunos formatos básicos de texto a usar son convertir texto a *cursiva*, **negrita**, <font color='red'>cambiar el color del texto</font> o <u>subrayar</u>"
   ]
  },
  {
   "cell_type": "markdown",
   "id": "b6f07b0d",
   "metadata": {},
   "source": [
    "Para conseguir los resultados de la linea anterior usamos este código:"
   ]
  },
  {
   "cell_type": "markdown",
   "id": "1d2f8385",
   "metadata": {},
   "source": [
    "<img src=https://i.imgur.com/S9lHt5M.png width=1000>\n"
   ]
  },
  {
   "cell_type": "markdown",
   "id": "1a749774",
   "metadata": {},
   "source": [
    "Inclusive podemos combinar fuentes como ***negrita cursiva*** o <u><font color='red'>*cursiva subrayada roja*</font></u>"
   ]
  },
  {
   "cell_type": "markdown",
   "id": "1c10adaa",
   "metadata": {},
   "source": [
    "<img src=https://i.imgur.com/O893NFo.png width=1000>"
   ]
  },
  {
   "cell_type": "markdown",
   "id": "89ad5a25",
   "metadata": {},
   "source": [
    "Como podemos ver simplemente estamos agregando una fuente tras otra al texto objetivo. "
   ]
  },
  {
   "cell_type": "markdown",
   "id": "deacab28",
   "metadata": {},
   "source": [
    "Nota: Para mayor personalización del texto tendríamos que utilizar html tags como en el caso del subrayado."
   ]
  },
  {
   "cell_type": "markdown",
   "id": "85c03e65",
   "metadata": {},
   "source": [
    "#### Ejemplo:\n",
    "\n",
    "```<font size=\"100\"> Tamaño de letra </font>```\n",
    "\n",
    "<font size=\"100\"> Tamaño de letra </font>"
   ]
  },
  {
   "cell_type": "markdown",
   "id": "d424df1c",
   "metadata": {},
   "source": [
    "## 4.2 Dar formato de código <a id='dar_formato_de_codigo'></a>"
   ]
  },
  {
   "cell_type": "markdown",
   "id": "1be80e70",
   "metadata": {},
   "source": [
    "Para dar formato de código genérico se utilizan los backticks (```)"
   ]
  },
  {
   "cell_type": "markdown",
   "id": "eaba03ad",
   "metadata": {},
   "source": [
    "```Estas vendrían a ser las tildes del idioma castellano pero invertidas```"
   ]
  },
  {
   "cell_type": "markdown",
   "id": "c65a9833",
   "metadata": {},
   "source": [
    "#### Markdown\n",
    "<img src=https://i.imgur.com/1ecNo4p.png width=1000>"
   ]
  },
  {
   "cell_type": "markdown",
   "id": "ed8f9759",
   "metadata": {},
   "source": [
    "Ahora, si quisieramos que el formato sea con otro lenguaje de programación lo debemos especificar luego de las tres primeras backticks e indentar:"
   ]
  },
  {
   "cell_type": "markdown",
   "id": "eca7e969",
   "metadata": {},
   "source": [
    "#### Python\n",
    "\n",
    "<img src=https://i.imgur.com/UmE2DDE.png width=1000>\n",
    "\n",
    "```python\n",
    "if DIO==\"Jotaro\":\n",
    "    print(\"DIO!\")\n",
    "```"
   ]
  },
  {
   "cell_type": "markdown",
   "id": "0cb2cf98",
   "metadata": {},
   "source": [
    "Como vemos dentro de los backticks debemos escribir del mismo modo en el que escribiriamos en el lenguaje."
   ]
  },
  {
   "cell_type": "markdown",
   "id": "a5e6b981",
   "metadata": {},
   "source": [
    "## 4.3 Dar formato de cita <a id='dar_formato_de_cita'></a>"
   ]
  },
  {
   "cell_type": "markdown",
   "id": "50ebe7a1",
   "metadata": {},
   "source": [
    "```markdown\n",
    "> Para dar formado de cita se utiliza el simbolo \"mayor que\" (>).\n",
    "> Puedes utilizar mas de uno de estos para agregar texto a la cita.\n",
    "\n",
    "> Pero, para hacer un salto de un parrafo a otro, tendrás que usar una    línea en blanco.\n",
    "```"
   ]
  },
  {
   "cell_type": "markdown",
   "id": "91c1381c",
   "metadata": {},
   "source": [
    "> Para dar formado de cita se utiliza el simbolo \"mayor que\" (>).\n",
    "> Puedes utilizar mas de uno de estos para agregar texto a la cita.\n",
    "\n",
    "> Pero, para hacer un salto de un parrafo a otro, tendrás que usar una línea en blanco."
   ]
  },
  {
   "cell_type": "markdown",
   "id": "3ef6c416",
   "metadata": {},
   "source": [
    "# 5. Tablas <a id='tablas'></a>"
   ]
  },
  {
   "cell_type": "markdown",
   "id": "61dbf5c7",
   "metadata": {},
   "source": [
    "Para preparar una tabla usaremos el simbolo : \"|\". De la siguiente manera:"
   ]
  },
  {
   "cell_type": "markdown",
   "id": "9f8351f6",
   "metadata": {},
   "source": [
    "<img src=https://i.imgur.com/R8lRG5p.png width=1000>\n",
    "\n",
    "#### Resultado\n",
    "|Código|   Nombre   |Capítulos|\n",
    "|:----:|:-----------|--------:|\n",
    "|01    |Re:Zero     |  50     |\n",
    "|02    |Steins;Gate |  25     |\n",
    "|03    |Code Geass  |  52     |"
   ]
  },
  {
   "cell_type": "markdown",
   "id": "0d62ffd1",
   "metadata": {},
   "source": [
    ">Como vemos los códigos estan alineados al centro y esto se debe a que en la cabecera tiene dobles dos puntos (:-----:), los nombres estan a la izquierda por que los dos puntos están solo a la izquierda (:------) y los capitulos estan a la derecha porque los puntos están solo de ese lado (------:)."
   ]
  },
  {
   "cell_type": "markdown",
   "id": "abb14de5",
   "metadata": {},
   "source": [
    "Por fines de buenas prácticas se trata de mantener los mismos anchos en las tablas, pero como veremos a continuación, realmente no influye en nada esto."
   ]
  },
  {
   "cell_type": "markdown",
   "id": "2e833503",
   "metadata": {},
   "source": [
    "<img src=https://i.imgur.com/9valK2S.png width=1000>"
   ]
  },
  {
   "cell_type": "markdown",
   "id": "4c33ae6f",
   "metadata": {},
   "source": [
    "#### Resultado:"
   ]
  },
  {
   "cell_type": "markdown",
   "id": "ae781f66",
   "metadata": {},
   "source": [
    "|*Código*|Nombre|<u>Capítulos</u>|\n",
    "|:-----:|--------------------:|----:|\n",
    "|01|Re:Zero|50|\n",
    "|02      |<font color='red'>Steins;Gate</font>|       25|\n",
    "|   03|Code Geass| 52                   |"
   ]
  },
  {
   "cell_type": "markdown",
   "id": "52668f91",
   "metadata": {},
   "source": [
    "Como vemos inclusive podemos aplicarle fuentes"
   ]
  },
  {
   "cell_type": "markdown",
   "id": "adbd2a2a",
   "metadata": {},
   "source": [
    "# 6. Insertar imagenes <a id='insertar_imagenes'></a>"
   ]
  },
  {
   "cell_type": "markdown",
   "id": "0b003be8",
   "metadata": {},
   "source": [
    "Las imagenes se insertan del siguiente modo:"
   ]
  },
  {
   "cell_type": "markdown",
   "id": "71cfae9c",
   "metadata": {},
   "source": [
    "<img src=https://i.imgur.com/qGdKA7o.png width=1000>"
   ]
  },
  {
   "cell_type": "markdown",
   "id": "c0ac744c",
   "metadata": {},
   "source": [
    "Sin embargo, si el archivo no esta dentro de la misma carpeta donde se encuentra el archivo .ipynb tendremos este resultado:"
   ]
  },
  {
   "cell_type": "markdown",
   "id": "7dfa72cd",
   "metadata": {},
   "source": [
    "![Nuevo nombre](1200px-Markdown-mark.png)"
   ]
  },
  {
   "cell_type": "markdown",
   "id": "245566a6",
   "metadata": {},
   "source": [
    "Además las imagenes importadas de archivos locales no se verán si el notebook se convierte a PDF."
   ]
  },
  {
   "cell_type": "markdown",
   "id": "767c0b4b",
   "metadata": {},
   "source": [
    "Por estas razones trabajar con html es más práctico, de la siguiente manera:"
   ]
  },
  {
   "cell_type": "markdown",
   "id": "6aa8b8d4",
   "metadata": {},
   "source": [
    "<img src=https://i.imgur.com/F69YQA4.png width=1000>"
   ]
  },
  {
   "cell_type": "markdown",
   "id": "b8213b06",
   "metadata": {},
   "source": [
    "<img src=https://i.imgur.com/qGdKA7o.png width=1000>\n",
    "\n",
    "Si se desea trabajar con capturas, personalmente utilizo ShareX pues este directamente sube las capturas."
   ]
  },
  {
   "cell_type": "markdown",
   "id": "1dc4f158",
   "metadata": {},
   "source": [
    "El primer argumento es el tipo de archivo, el segundo el link y el tercero es el ancho, con html se le puede realizar mayor edición."
   ]
  },
  {
   "cell_type": "markdown",
   "id": "54e4d92a",
   "metadata": {},
   "source": [
    "# 7. IFrames <a id='iframes'></a>"
   ]
  },
  {
   "cell_type": "markdown",
   "id": "d81374f8",
   "metadata": {},
   "source": [
    "Para trabajar con IFrames tendremos que utilizar ahora una ventana de código"
   ]
  },
  {
   "cell_type": "code",
   "execution_count": null,
   "id": "a4dcb6d7",
   "metadata": {},
   "outputs": [],
   "source": [
    "from IPython.display import IFrame\n",
    "IFrame(\"http://www1.herrera.unt.edu.ar/biblcet/wp-content/uploads/2014/12/ippython.pdf\", width=600, height=600)"
   ]
  },
  {
   "cell_type": "markdown",
   "id": "15275835",
   "metadata": {},
   "source": [
    "<img src=https://i.imgur.com/H1G3fl9.png width=1000>\n",
    "\n",
    "Hay que tener en cuenta que si la página donde se aloja el documento no permite conexión no obtendremos resultados."
   ]
  },
  {
   "cell_type": "markdown",
   "id": "4a5ed942",
   "metadata": {},
   "source": [
    "Con esto último ya nos estamos saliendo del tema de markdown por lo que culmina con esto el tutorial. "
   ]
  },
  {
   "cell_type": "markdown",
   "id": "b5bd131f",
   "metadata": {},
   "source": [
    "# Gracias"
   ]
  }
 ],
 "metadata": {
  "kernelspec": {
   "display_name": "Python 3",
   "language": "python",
   "name": "python3"
  },
  "language_info": {
   "codemirror_mode": {
    "name": "ipython",
    "version": 3
   },
   "file_extension": ".py",
   "mimetype": "text/x-python",
   "name": "python",
   "nbconvert_exporter": "python",
   "pygments_lexer": "ipython3",
   "version": "3.8.8"
  }
 },
 "nbformat": 4,
 "nbformat_minor": 5
}
